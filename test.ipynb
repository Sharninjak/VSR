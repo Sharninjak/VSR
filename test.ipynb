{
 "cells": [
  {
   "cell_type": "code",
   "execution_count": 1,
   "id": "9e3555db",
   "metadata": {},
   "outputs": [
    {
     "ename": "OSError",
     "evalue": "[WinError 126] 找不到指定的模块。 Error loading \"c:\\00_Program\\00_Science\\01_Programming\\03_Environment\\anaconda3\\envs\\torch\\lib\\site-packages\\torch\\lib\\torch_python.dll\" or one of its dependencies.",
     "output_type": "error",
     "traceback": [
      "\u001b[1;31m---------------------------------------------------------------------------\u001b[0m",
      "\u001b[1;31mOSError\u001b[0m                                   Traceback (most recent call last)",
      "Cell \u001b[1;32mIn[1], line 1\u001b[0m\n\u001b[1;32m----> 1\u001b[0m \u001b[38;5;28;01mimport\u001b[39;00m\u001b[38;5;250m \u001b[39m\u001b[38;5;21;01mtorch\u001b[39;00m\n\u001b[0;32m      2\u001b[0m \u001b[38;5;28mprint\u001b[39m(torch\u001b[38;5;241m.\u001b[39m__version__)\n\u001b[0;32m      3\u001b[0m \u001b[38;5;28mprint\u001b[39m(torch\u001b[38;5;241m.\u001b[39mcuda\u001b[38;5;241m.\u001b[39mis_available())\n",
      "File \u001b[1;32mc:\\00_Program\\00_Science\\01_Programming\\03_Environment\\anaconda3\\envs\\torch\\lib\\site-packages\\torch\\__init__.py:270\u001b[0m\n\u001b[0;32m    266\u001b[0m                     \u001b[38;5;28;01mraise\u001b[39;00m err\n\u001b[0;32m    268\u001b[0m         kernel32\u001b[38;5;241m.\u001b[39mSetErrorMode(prev_error_mode)\n\u001b[1;32m--> 270\u001b[0m     \u001b[43m_load_dll_libraries\u001b[49m\u001b[43m(\u001b[49m\u001b[43m)\u001b[49m\n\u001b[0;32m    271\u001b[0m     \u001b[38;5;28;01mdel\u001b[39;00m _load_dll_libraries\n\u001b[0;32m    274\u001b[0m \u001b[38;5;28;01mdef\u001b[39;00m\u001b[38;5;250m \u001b[39m\u001b[38;5;21m_get_cuda_dep_paths\u001b[39m(path: \u001b[38;5;28mstr\u001b[39m, lib_folder: \u001b[38;5;28mstr\u001b[39m, lib_name: \u001b[38;5;28mstr\u001b[39m) \u001b[38;5;241m-\u001b[39m\u001b[38;5;241m>\u001b[39m \u001b[38;5;28mlist\u001b[39m[\u001b[38;5;28mstr\u001b[39m]:\n\u001b[0;32m    275\u001b[0m     \u001b[38;5;66;03m# Libraries can either be in path/nvidia/lib_folder/lib or path/lib_folder/lib\u001b[39;00m\n",
      "File \u001b[1;32mc:\\00_Program\\00_Science\\01_Programming\\03_Environment\\anaconda3\\envs\\torch\\lib\\site-packages\\torch\\__init__.py:266\u001b[0m, in \u001b[0;36m_load_dll_libraries\u001b[1;34m()\u001b[0m\n\u001b[0;32m    262\u001b[0m             err \u001b[38;5;241m=\u001b[39m ctypes\u001b[38;5;241m.\u001b[39mWinError(ctypes\u001b[38;5;241m.\u001b[39mget_last_error())\n\u001b[0;32m    263\u001b[0m             err\u001b[38;5;241m.\u001b[39mstrerror \u001b[38;5;241m+\u001b[39m\u001b[38;5;241m=\u001b[39m (\n\u001b[0;32m    264\u001b[0m                 \u001b[38;5;124mf\u001b[39m\u001b[38;5;124m'\u001b[39m\u001b[38;5;124m Error loading \u001b[39m\u001b[38;5;124m\"\u001b[39m\u001b[38;5;132;01m{\u001b[39;00mdll\u001b[38;5;132;01m}\u001b[39;00m\u001b[38;5;124m\"\u001b[39m\u001b[38;5;124m or one of its dependencies.\u001b[39m\u001b[38;5;124m'\u001b[39m\n\u001b[0;32m    265\u001b[0m             )\n\u001b[1;32m--> 266\u001b[0m             \u001b[38;5;28;01mraise\u001b[39;00m err\n\u001b[0;32m    268\u001b[0m kernel32\u001b[38;5;241m.\u001b[39mSetErrorMode(prev_error_mode)\n",
      "\u001b[1;31mOSError\u001b[0m: [WinError 126] 找不到指定的模块。 Error loading \"c:\\00_Program\\00_Science\\01_Programming\\03_Environment\\anaconda3\\envs\\torch\\lib\\site-packages\\torch\\lib\\torch_python.dll\" or one of its dependencies."
     ]
    }
   ],
   "source": [
    "import torch\n",
    "print(torch.__version__)\n",
    "print(torch.cuda.is_available())"
   ]
  },
  {
   "cell_type": "code",
   "execution_count": 9,
   "id": "53c2bf85",
   "metadata": {},
   "outputs": [
    {
     "name": "stdout",
     "output_type": "stream",
     "text": [
      "<random.Random object at 0x000001DCC14607F0>\n",
      "0\n",
      "0.09158478740507359\n"
     ]
    }
   ],
   "source": [
    "import random\n",
    "\n",
    "seed = 2\n",
    "\n",
    "rand_gen = random.Random(seed)\n",
    "print(rand_gen)\n",
    "print(rand_gen.randrange(4))\n",
    "print(rand_gen.random())"
   ]
  },
  {
   "cell_type": "code",
   "execution_count": null,
   "id": "9d40da95",
   "metadata": {},
   "outputs": [],
   "source": [
    "import pathlib\n",
    "\n",
    "b = pathlib.Path(\"D:/datasets/vimeo\")\n",
    "a = b / \"test\" / \"sequences\" / \"0001\"\n",
    "\n",
    "print(a)\n",
    "print(type(a))"
   ]
  },
  {
   "cell_type": "code",
   "execution_count": null,
   "id": "192786cd",
   "metadata": {},
   "outputs": [
    {
     "ename": "OSError",
     "evalue": "[WinError 126] 找不到指定的模块。 Error loading \"c:\\00_Program\\00_Science\\01_Programming\\03_Environment\\anaconda3\\envs\\torch\\lib\\site-packages\\torch\\lib\\torch_python.dll\" or one of its dependencies.",
     "output_type": "error",
     "traceback": [
      "\u001b[1;31m---------------------------------------------------------------------------\u001b[0m",
      "\u001b[1;31mOSError\u001b[0m                                   Traceback (most recent call last)",
      "Cell \u001b[1;32mIn[2], line 1\u001b[0m\n\u001b[1;32m----> 1\u001b[0m \u001b[38;5;28;01mfrom\u001b[39;00m\u001b[38;5;250m \u001b[39m\u001b[38;5;21;01mcycmunet\u001b[39;00m\u001b[38;5;21;01m.\u001b[39;00m\u001b[38;5;21;01mtorch\u001b[39;00m\u001b[38;5;21;01m.\u001b[39;00m\u001b[38;5;21;01mdataset\u001b[39;00m\u001b[38;5;250m \u001b[39m\u001b[38;5;28;01mimport\u001b[39;00m ImageSequenceDataset\n\u001b[0;32m      3\u001b[0m dataset_indexes \u001b[38;5;241m=\u001b[39m [\n\u001b[0;32m      4\u001b[0m     \u001b[38;5;124m\"\u001b[39m\u001b[38;5;124mD:\u001b[39m\u001b[38;5;124m\\\u001b[39m\u001b[38;5;124mBaiduNetdiskWorkspace\u001b[39m\u001b[38;5;130;01m\\00\u001b[39;00m\u001b[38;5;124m_Project\u001b[39m\u001b[38;5;130;01m\\01\u001b[39;00m\u001b[38;5;124m_Programming\u001b[39m\u001b[38;5;130;01m\\00\u001b[39;00m\u001b[38;5;124m_Project\u001b[39m\u001b[38;5;124m\\\u001b[39m\u001b[38;5;124mVSR\u001b[39m\u001b[38;5;130;01m\\00\u001b[39;00m\u001b[38;5;124m_test\u001b[39m\u001b[38;5;130;01m\\t\u001b[39;00m\u001b[38;5;124mest.txt\u001b[39m\u001b[38;5;124m\"\u001b[39m,\n\u001b[0;32m      5\u001b[0m     \u001b[38;5;124m\"\u001b[39m\u001b[38;5;124mD:\u001b[39m\u001b[38;5;124m\\\u001b[39m\u001b[38;5;124mBaiduNetdiskWorkspace\u001b[39m\u001b[38;5;130;01m\\00\u001b[39;00m\u001b[38;5;124m_Project\u001b[39m\u001b[38;5;130;01m\\01\u001b[39;00m\u001b[38;5;124m_Programming\u001b[39m\u001b[38;5;130;01m\\00\u001b[39;00m\u001b[38;5;124m_Project\u001b[39m\u001b[38;5;124m\\\u001b[39m\u001b[38;5;124mVSR\u001b[39m\u001b[38;5;130;01m\\00\u001b[39;00m\u001b[38;5;124m_test\u001b[39m\u001b[38;5;130;01m\\t\u001b[39;00m\u001b[38;5;124mest2.txt\u001b[39m\u001b[38;5;124m\"\u001b[39m,\n\u001b[0;32m      6\u001b[0m ]\n\u001b[0;32m      7\u001b[0m size \u001b[38;5;241m=\u001b[39m \u001b[38;5;241m256\u001b[39m\n",
      "File \u001b[1;32md:\\BaiduNetdiskWorkspace\\00_Project\\01_Programming\\00_Project\\VSR\\cycmunet\\torch\\dataset\\__init__.py:1\u001b[0m\n\u001b[1;32m----> 1\u001b[0m \u001b[38;5;28;01mfrom\u001b[39;00m\u001b[38;5;250m \u001b[39m\u001b[38;5;21;01m.\u001b[39;00m\u001b[38;5;21;01msequence\u001b[39;00m\u001b[38;5;250m \u001b[39m\u001b[38;5;28;01mimport\u001b[39;00m ImageSequenceDataset\n\u001b[0;32m      2\u001b[0m \u001b[38;5;28;01mfrom\u001b[39;00m\u001b[38;5;250m \u001b[39m\u001b[38;5;21;01m.\u001b[39;00m\u001b[38;5;21;01mvideo\u001b[39;00m\u001b[38;5;250m \u001b[39m\u001b[38;5;28;01mimport\u001b[39;00m VideoFrameDataset\n\u001b[0;32m      3\u001b[0m \u001b[38;5;28;01mfrom\u001b[39;00m\u001b[38;5;250m \u001b[39m\u001b[38;5;21;01m.\u001b[39;00m\u001b[38;5;21;01mutil\u001b[39;00m\u001b[38;5;250m \u001b[39m\u001b[38;5;28;01mimport\u001b[39;00m InterleavedDataset\n",
      "File \u001b[1;32md:\\BaiduNetdiskWorkspace\\00_Project\\01_Programming\\00_Project\\VSR\\cycmunet\\torch\\dataset\\sequence.py:7\u001b[0m\n\u001b[0;32m      4\u001b[0m \u001b[38;5;28;01mimport\u001b[39;00m\u001b[38;5;250m \u001b[39m\u001b[38;5;21;01mrandom\u001b[39;00m\n\u001b[0;32m      5\u001b[0m \u001b[38;5;28;01mfrom\u001b[39;00m\u001b[38;5;250m \u001b[39m\u001b[38;5;21;01mtyping\u001b[39;00m\u001b[38;5;250m \u001b[39m\u001b[38;5;28;01mimport\u001b[39;00m List\n\u001b[1;32m----> 7\u001b[0m \u001b[38;5;28;01mimport\u001b[39;00m\u001b[38;5;250m \u001b[39m\u001b[38;5;21;01mtorch\u001b[39;00m\u001b[38;5;21;01m.\u001b[39;00m\u001b[38;5;21;01mutils\u001b[39;00m\u001b[38;5;21;01m.\u001b[39;00m\u001b[38;5;21;01mdata\u001b[39;00m\u001b[38;5;250m \u001b[39m\u001b[38;5;28;01mas\u001b[39;00m\u001b[38;5;250m \u001b[39m\u001b[38;5;21;01mdata\u001b[39;00m\n\u001b[0;32m      8\u001b[0m \u001b[38;5;28;01mimport\u001b[39;00m\u001b[38;5;250m \u001b[39m\u001b[38;5;21;01mnumpy\u001b[39;00m\u001b[38;5;250m \u001b[39m\u001b[38;5;28;01mas\u001b[39;00m\u001b[38;5;250m \u001b[39m\u001b[38;5;21;01mnp\u001b[39;00m\n\u001b[0;32m      9\u001b[0m \u001b[38;5;28;01mimport\u001b[39;00m\u001b[38;5;250m \u001b[39m\u001b[38;5;21;01mtorchvision\u001b[39;00m\u001b[38;5;21;01m.\u001b[39;00m\u001b[38;5;21;01mtransforms\u001b[39;00m\n",
      "File \u001b[1;32mc:\\00_Program\\00_Science\\01_Programming\\03_Environment\\anaconda3\\envs\\torch\\lib\\site-packages\\torch\\__init__.py:270\u001b[0m\n\u001b[0;32m    266\u001b[0m                     \u001b[38;5;28;01mraise\u001b[39;00m err\n\u001b[0;32m    268\u001b[0m         kernel32\u001b[38;5;241m.\u001b[39mSetErrorMode(prev_error_mode)\n\u001b[1;32m--> 270\u001b[0m     \u001b[43m_load_dll_libraries\u001b[49m\u001b[43m(\u001b[49m\u001b[43m)\u001b[49m\n\u001b[0;32m    271\u001b[0m     \u001b[38;5;28;01mdel\u001b[39;00m _load_dll_libraries\n\u001b[0;32m    274\u001b[0m \u001b[38;5;28;01mdef\u001b[39;00m\u001b[38;5;250m \u001b[39m\u001b[38;5;21m_get_cuda_dep_paths\u001b[39m(path: \u001b[38;5;28mstr\u001b[39m, lib_folder: \u001b[38;5;28mstr\u001b[39m, lib_name: \u001b[38;5;28mstr\u001b[39m) \u001b[38;5;241m-\u001b[39m\u001b[38;5;241m>\u001b[39m \u001b[38;5;28mlist\u001b[39m[\u001b[38;5;28mstr\u001b[39m]:\n\u001b[0;32m    275\u001b[0m     \u001b[38;5;66;03m# Libraries can either be in path/nvidia/lib_folder/lib or path/lib_folder/lib\u001b[39;00m\n",
      "File \u001b[1;32mc:\\00_Program\\00_Science\\01_Programming\\03_Environment\\anaconda3\\envs\\torch\\lib\\site-packages\\torch\\__init__.py:266\u001b[0m, in \u001b[0;36m_load_dll_libraries\u001b[1;34m()\u001b[0m\n\u001b[0;32m    262\u001b[0m             err \u001b[38;5;241m=\u001b[39m ctypes\u001b[38;5;241m.\u001b[39mWinError(ctypes\u001b[38;5;241m.\u001b[39mget_last_error())\n\u001b[0;32m    263\u001b[0m             err\u001b[38;5;241m.\u001b[39mstrerror \u001b[38;5;241m+\u001b[39m\u001b[38;5;241m=\u001b[39m (\n\u001b[0;32m    264\u001b[0m                 \u001b[38;5;124mf\u001b[39m\u001b[38;5;124m'\u001b[39m\u001b[38;5;124m Error loading \u001b[39m\u001b[38;5;124m\"\u001b[39m\u001b[38;5;132;01m{\u001b[39;00mdll\u001b[38;5;132;01m}\u001b[39;00m\u001b[38;5;124m\"\u001b[39m\u001b[38;5;124m or one of its dependencies.\u001b[39m\u001b[38;5;124m'\u001b[39m\n\u001b[0;32m    265\u001b[0m             )\n\u001b[1;32m--> 266\u001b[0m             \u001b[38;5;28;01mraise\u001b[39;00m err\n\u001b[0;32m    268\u001b[0m kernel32\u001b[38;5;241m.\u001b[39mSetErrorMode(prev_error_mode)\n",
      "\u001b[1;31mOSError\u001b[0m: [WinError 126] 找不到指定的模块。 Error loading \"c:\\00_Program\\00_Science\\01_Programming\\03_Environment\\anaconda3\\envs\\torch\\lib\\site-packages\\torch\\lib\\torch_python.dll\" or one of its dependencies."
     ]
    }
   ],
   "source": [
    "from cycmunet.torch import dataset\n",
    "\n",
    "# train_args = train_arg(\n",
    "#     size=(128, 128),\n",
    "#     pretrained=\"/root/cycmunet-new/checkpoints/monitor-ugly_2x_l4_c3_epoch_19.pth\",\n",
    "#     dataset_type=\"triplet\",\n",
    "#     dataset_indexes=[\n",
    "#         \"/data1/sharninjak/DATASET/vimeo/test.txt\"\n",
    "#     ],\n",
    "#     preview_interval=100,\n",
    "#     seed=0,\n",
    "#     lr=0.001,\n",
    "#     start_epoch=1,\n",
    "#     end_epoch=11,\n",
    "#     sparsity=True,\n",
    "#     batch_size=2,\n",
    "#     autocast=False,\n",
    "#     loss_type='rmse',\n",
    "#     save_path='checkpoints',\n",
    "#     save_prefix='triplet',\n",
    "# )\n",
    "\n",
    "dataset_indexes = [\n",
    "    \"/data1/sharninjak/VSR/TEST/test.txt\",\n",
    "    \"/data1/sharninjak/VSR/TEST/train.txt\",\n",
    "]\n",
    "size = 256\n",
    "upscale_factor = 4\n",
    "seed = 2\n",
    "augment = False\n",
    "\n",
    "\n",
    "if len(dataset_indexes) == 1:\n",
    "    ds_train = dataset.ImageSequenceDataset(\n",
    "        index_file = dataset_indexes[0],\n",
    "        patch_size = size,\n",
    "        scale_factor = upscale_factor,\n",
    "        seed=seed,\n",
    "        augment=augment,\n",
    "    )\n",
    "else:\n",
    "    ds_train = dataset.InterleavedDataset(*[\n",
    "    dataset.ImageSequenceDataset(\n",
    "        index_file = dataset_index,\n",
    "        patch_size = size,\n",
    "        scale_factor = upscale_factor,\n",
    "        augment=augment,\n",
    "        seed=seed+i,\n",
    "    )\n",
    "    for i, dataset_index in enumerate(dataset_indexes)])\n",
    "\n",
    "print(ds_train)\n"
   ]
  }
 ],
 "metadata": {
  "kernelspec": {
   "display_name": "torch",
   "language": "python",
   "name": "python3"
  },
  "language_info": {
   "codemirror_mode": {
    "name": "ipython",
    "version": 3
   },
   "file_extension": ".py",
   "mimetype": "text/x-python",
   "name": "python",
   "nbconvert_exporter": "python",
   "pygments_lexer": "ipython3",
   "version": "3.10.16"
  }
 },
 "nbformat": 4,
 "nbformat_minor": 5
}
